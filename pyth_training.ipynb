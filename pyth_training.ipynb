{
  "nbformat": 4,
  "nbformat_minor": 0,
  "metadata": {
    "colab": {
      "provenance": [],
      "authorship_tag": "ABX9TyNKbvGWCVCoiGoP0NrmHf3k",
      "include_colab_link": true
    },
    "kernelspec": {
      "name": "python3",
      "display_name": "Python 3"
    },
    "language_info": {
      "name": "python"
    }
  },
  "cells": [
    {
      "cell_type": "markdown",
      "metadata": {
        "id": "view-in-github",
        "colab_type": "text"
      },
      "source": [
        "<a href=\"https://colab.research.google.com/github/blahbul/DSA/blob/main/pyth_training.ipynb\" target=\"_parent\"><img src=\"https://colab.research.google.com/assets/colab-badge.svg\" alt=\"Open In Colab\"/></a>"
      ]
    },
    {
      "cell_type": "code",
      "execution_count": null,
      "metadata": {
        "colab": {
          "base_uri": "https://localhost:8080/"
        },
        "id": "SUiD1O4-BnI4",
        "outputId": "5bf5faad-7b72-4e06-ac67-4103a63e6971"
      },
      "outputs": [
        {
          "output_type": "stream",
          "name": "stdout",
          "text": [
            "Enter a number: 153\n",
            "Armstrong number\n"
          ]
        }
      ],
      "source": [
        "#Amstrong Number\n",
        "n=int(input(\"Enter a number: \"))\n",
        "count=0\n",
        "a=n\n",
        "s=0\n",
        "b=n\n",
        "while a!=0:\n",
        "    d=a%10\n",
        "    a=a//10\n",
        "    count+=1\n",
        "while n:\n",
        "  d=n%10\n",
        "  n=n//10\n",
        "  s+=(d**count)\n",
        "if s==b:\n",
        "  print(\"Armstrong number\")\n",
        "else:\n",
        "  print(\"Not an armstrong number\")"
      ]
    },
    {
      "cell_type": "code",
      "source": [
        "#Sum of 5 digit number\n",
        "n=int(input(\"Enter a five digit number: \"))\n",
        "sum=0\n",
        "while n:\n",
        "  d=n%10\n",
        "  sum+=d\n",
        "  n=n//10\n",
        "print(sum)"
      ],
      "metadata": {
        "colab": {
          "base_uri": "https://localhost:8080/"
        },
        "id": "2TuO_N10DTfk",
        "outputId": "9d2d1417-7131-42ad-dfea-a8cc7476413b"
      },
      "execution_count": null,
      "outputs": [
        {
          "output_type": "stream",
          "name": "stdout",
          "text": [
            "Enter a five digit number: 12345\n",
            "15\n"
          ]
        }
      ]
    },
    {
      "cell_type": "code",
      "source": [
        "#Codeforces 791- Bear and Big Brother\n",
        "a=int(input(\"Enter Lim's weight:\"))\n",
        "b=int(input(\"Enter Bob's weight:\"))\n",
        "i=0\n",
        "while a<=b:\n",
        "  a*=3\n",
        "  b*=2\n",
        "  i+=1\n",
        "print(i)"
      ],
      "metadata": {
        "id": "cyZV82PID4PW",
        "colab": {
          "base_uri": "https://localhost:8080/"
        },
        "outputId": "f9235750-7393-451a-b97c-687e074e0d67"
      },
      "execution_count": null,
      "outputs": [
        {
          "output_type": "stream",
          "name": "stdout",
          "text": [
            "Enter Lim's weight:4\n",
            "Enter Bob's weight:9\n",
            "3\n"
          ]
        }
      ]
    },
    {
      "cell_type": "code",
      "source": [
        "#Codeforces 977 A Wrong Subtraction\n",
        "n=int(input())\n",
        "k=int(input())\n",
        "for _ in range(1,k+1):\n",
        "  if n%10==0:\n",
        "    n//=10\n",
        "  else:\n",
        "    n-=1\n",
        "print(n)"
      ],
      "metadata": {
        "id": "XMi5koCkFV2D",
        "colab": {
          "base_uri": "https://localhost:8080/"
        },
        "outputId": "fa88e51d-d9a6-42ae-f9dc-1a7048df222a"
      },
      "execution_count": null,
      "outputs": [
        {
          "output_type": "stream",
          "name": "stdout",
          "text": [
            "512\n",
            "4\n",
            "50\n"
          ]
        }
      ]
    },
    {
      "cell_type": "code",
      "source": [
        "#List input\n",
        "l=input(\"Enter \").split()\n",
        "print(l)"
      ],
      "metadata": {
        "id": "BsuFzLa7xxYf",
        "colab": {
          "base_uri": "https://localhost:8080/"
        },
        "outputId": "38ba318c-9b17-4b32-d90a-666a67a97372"
      },
      "execution_count": null,
      "outputs": [
        {
          "output_type": "stream",
          "name": "stdout",
          "text": [
            "Enter 10 20 30 40\n",
            "['10', '20', '30', '40']\n"
          ]
        }
      ]
    },
    {
      "cell_type": "code",
      "source": [
        "#List input\n",
        "l=list(map(int,input().split()))\n",
        "print(l)"
      ],
      "metadata": {
        "colab": {
          "base_uri": "https://localhost:8080/"
        },
        "id": "s6EUCyZXumOw",
        "outputId": "d77d3bbf-7814-411b-8a46-0e76c1b63746"
      },
      "execution_count": null,
      "outputs": [
        {
          "output_type": "stream",
          "name": "stdout",
          "text": [
            "10 30 30\n",
            "[10, 30, 30]\n"
          ]
        }
      ]
    },
    {
      "cell_type": "code",
      "source": [
        "#List input\n",
        "l=[]\n",
        "n=int(input())\n",
        "for i in range(n):\n",
        "  l.append(int(input()))\n",
        "print(l)"
      ],
      "metadata": {
        "colab": {
          "base_uri": "https://localhost:8080/"
        },
        "id": "f7YrZVcevXi1",
        "outputId": "e8b71ad3-5ba7-4551-dacb-078a8f2b58bc"
      },
      "execution_count": null,
      "outputs": [
        {
          "output_type": "stream",
          "name": "stdout",
          "text": [
            "5\n",
            "10\n",
            "20\n",
            "30\n",
            "40\n",
            "50\n",
            "[10, 20, 30, 40, 50]\n"
          ]
        }
      ]
    },
    {
      "cell_type": "code",
      "source": [
        "#List operations\n",
        "l=[1,2,3,4,5]\n",
        "for i in range(1,4):\n",
        "  l[i-2]=l[i]\n",
        "for i in range(0,4):\n",
        "  print(l[i],end=\" \")"
      ],
      "metadata": {
        "colab": {
          "base_uri": "https://localhost:8080/"
        },
        "id": "6VOdKQYdwFVd",
        "outputId": "279d2543-8d0d-470f-f973-92f701889104"
      },
      "execution_count": null,
      "outputs": [
        {
          "output_type": "stream",
          "name": "stdout",
          "text": [
            "3 4 3 4 "
          ]
        }
      ]
    },
    {
      "cell_type": "code",
      "source": [
        "#List\n",
        "l=[1,2,3]\n",
        "l1=l\n",
        "l[0]=4\n",
        "print(l1)"
      ],
      "metadata": {
        "colab": {
          "base_uri": "https://localhost:8080/"
        },
        "id": "GTOwJAdPyOw9",
        "outputId": "bd8c39bf-d09a-4ef2-8390-0b090499168f"
      },
      "execution_count": null,
      "outputs": [
        {
          "output_type": "stream",
          "name": "stdout",
          "text": [
            "[4, 2, 3]\n"
          ]
        }
      ]
    },
    {
      "cell_type": "code",
      "source": [
        "#List Methods\n",
        "l=[1,2,3]\n",
        "l.append([10,20])\n",
        "l.extend([10,20])\n",
        "l.insert(2,'bro')\n",
        "print(l)"
      ],
      "metadata": {
        "colab": {
          "base_uri": "https://localhost:8080/"
        },
        "id": "6IQRyuTMyfF8",
        "outputId": "3f639b17-4681-47fc-f40e-e809bd107b5c"
      },
      "execution_count": 26,
      "outputs": [
        {
          "output_type": "stream",
          "name": "stdout",
          "text": [
            "[1, 2, 'bro', 3, [10, 20], 10, 20]\n"
          ]
        }
      ]
    },
    {
      "cell_type": "code",
      "source": [
        "#List Methods\n",
        "l=[13,20,'l',\"yo\",45,78,59,54,48,49]\n",
        "l.remove(54)\n",
        "print(l)\n",
        "l.pop()\n",
        "l.pop(3)\n",
        "print(l)\n",
        "l.clear()\n",
        "print(l)"
      ],
      "metadata": {
        "colab": {
          "base_uri": "https://localhost:8080/"
        },
        "id": "xyX52Bd80Klb",
        "outputId": "c7bfa8af-10c7-4c6c-df07-9fb87d3792ec"
      },
      "execution_count": null,
      "outputs": [
        {
          "output_type": "stream",
          "name": "stdout",
          "text": [
            "[13, 20, 'l', 'yo', 45, 78, 59, 48, 49]\n",
            "[13, 20, 'l', 45, 78, 59, 48]\n",
            "[]\n"
          ]
        }
      ]
    },
    {
      "cell_type": "code",
      "source": [
        "#List Methods\n",
        "l=[2,1,4,3,5,7]\n",
        "l.sort(reverse=True)\n",
        "print(l)"
      ],
      "metadata": {
        "colab": {
          "base_uri": "https://localhost:8080/"
        },
        "id": "jbtYDzaW9bBJ",
        "outputId": "ef37edcc-251b-4553-8209-3733a71b13a0"
      },
      "execution_count": null,
      "outputs": [
        {
          "output_type": "stream",
          "name": "stdout",
          "text": [
            "[7, 5, 4, 3, 2, 1]\n"
          ]
        }
      ]
    },
    {
      "cell_type": "code",
      "source": [
        "#List Slicing\n",
        "l=[2,3,4,5]\n",
        "print(l[-3:-1])\n",
        "print(l[::-1])"
      ],
      "metadata": {
        "colab": {
          "base_uri": "https://localhost:8080/"
        },
        "id": "jhDetKcf_--O",
        "outputId": "9927532c-1885-4f44-a4a4-6d990bdc9106"
      },
      "execution_count": null,
      "outputs": [
        {
          "output_type": "stream",
          "name": "stdout",
          "text": [
            "[3, 4]\n",
            "[5, 4, 3, 2]\n"
          ]
        }
      ]
    },
    {
      "cell_type": "code",
      "source": [
        "#List Methods\n",
        "a=list(map(int,input().split()))\n",
        "b=list(map(int,input().split()))\n",
        "c=a+b\n",
        "c.sort()\n",
        "print(c)"
      ],
      "metadata": {
        "colab": {
          "base_uri": "https://localhost:8080/"
        },
        "id": "R0tFHQZ3DSM0",
        "outputId": "d6b96dc0-3cbf-4cf7-edc7-22a98d98f62a"
      },
      "execution_count": null,
      "outputs": [
        {
          "output_type": "stream",
          "name": "stdout",
          "text": [
            "10 20 30 \n",
            "1 2 3 4\n",
            "[1, 2, 3, 4, 10, 20, 30]\n"
          ]
        }
      ]
    },
    {
      "cell_type": "code",
      "source": [
        "#List Swapping of elements\n",
        "a=list(map(int,input().split()))\n",
        "a[0],a[-1]=a[-1],a[0]\n",
        "print(a)"
      ],
      "metadata": {
        "colab": {
          "base_uri": "https://localhost:8080/"
        },
        "id": "5BZ-Chf3FtQE",
        "outputId": "fc38c872-25a9-45db-9048-c73113cd84f6"
      },
      "execution_count": null,
      "outputs": [
        {
          "output_type": "stream",
          "name": "stdout",
          "text": [
            "10 20 30\n",
            "[30, 20, 10]\n"
          ]
        }
      ]
    },
    {
      "cell_type": "code",
      "source": [
        "#Sum of even elements in odd index\n",
        "l=list(map(int,input().split()))\n",
        "sum=0\n",
        "for i in range(len(l)):\n",
        "  if i%2!=0 and l[i]%2==0:\n",
        "    sum+=l[i]\n",
        "print(sum)"
      ],
      "metadata": {
        "colab": {
          "base_uri": "https://localhost:8080/"
        },
        "id": "AeDmWz_AGwZC",
        "outputId": "97785a0b-4c4f-44b6-fd65-341b963118cc"
      },
      "execution_count": null,
      "outputs": [
        {
          "output_type": "stream",
          "name": "stdout",
          "text": [
            "1 2 3 4 5 7 6\n",
            "6\n"
          ]
        }
      ]
    },
    {
      "cell_type": "code",
      "source": [
        "#Occurence of an element\n",
        "l=list(map(int,input().split()))\n",
        "res=[]\n",
        "for i in l:\n",
        "  if i not in res:\n",
        "    res.append(i)\n",
        "print(res)"
      ],
      "metadata": {
        "colab": {
          "base_uri": "https://localhost:8080/"
        },
        "id": "sp29TLhNIchK",
        "outputId": "00d74e20-04b9-4d44-d224-9d47af2c40f4"
      },
      "execution_count": null,
      "outputs": [
        {
          "output_type": "stream",
          "name": "stdout",
          "text": [
            "2 2 3 1 3 1 3 1 2 \n",
            "[2, 3, 1]\n"
          ]
        }
      ]
    },
    {
      "cell_type": "code",
      "source": [
        "#Element which is not repeated\n",
        "l=list(map(int,input().split()))\n",
        "res=[]\n",
        "for i in l:\n",
        "  c=l.count(i)\n",
        "  if c%2!=0 and i not in res:\n",
        "    res.append(i)\n",
        "print(res)"
      ],
      "metadata": {
        "colab": {
          "base_uri": "https://localhost:8080/"
        },
        "id": "XNZjZDr-Z9cf",
        "outputId": "2d45c0f3-efb9-4ea5-e55a-a85a89070d34"
      },
      "execution_count": null,
      "outputs": [
        {
          "output_type": "stream",
          "name": "stdout",
          "text": [
            "4 4 4 1 1 2 4 \n",
            "[2]\n"
          ]
        }
      ]
    },
    {
      "cell_type": "code",
      "source": [
        "#Arrange even elements in descending order and odd elements in ascending order\n",
        "l=list(map(int,input().split()))\n",
        "res=[]\n",
        "l.sort()\n",
        "for i in l:\n",
        "  if i%2!=0:\n",
        "    res.append(i)\n",
        "  else:\n",
        "    res.insert(0,i)\n",
        "print(res)"
      ],
      "metadata": {
        "colab": {
          "base_uri": "https://localhost:8080/"
        },
        "id": "GhmqqvfYgsN-",
        "outputId": "698b11aa-808f-4065-ec87-cff0c8a044a2"
      },
      "execution_count": null,
      "outputs": [
        {
          "output_type": "stream",
          "name": "stdout",
          "text": [
            "1 5 3 4 2 6\n",
            "[6, 4, 2, 1, 3, 5]\n"
          ]
        }
      ]
    },
    {
      "cell_type": "code",
      "source": [
        "#Arrange even elements in descending order and odd elements in ascending order\n",
        "l=list(map(int,input().split()))\n",
        "a=[]\n",
        "b=[]\n",
        "for i in l:\n",
        "  if i%2==0:\n",
        "    a.append(i)\n",
        "    a.sort(reverse=True)\n",
        "  else:\n",
        "    b.append(i)\n",
        "    b.sort()\n",
        "print(a+b)"
      ],
      "metadata": {
        "colab": {
          "base_uri": "https://localhost:8080/"
        },
        "id": "zriCpvpGhMoe",
        "outputId": "8664750d-5e76-4e6d-be40-53e372fb82de"
      },
      "execution_count": null,
      "outputs": [
        {
          "output_type": "stream",
          "name": "stdout",
          "text": [
            "1 5 3 2 4 6\n",
            "[6, 4, 2, 1, 3, 5]\n"
          ]
        }
      ]
    },
    {
      "cell_type": "code",
      "metadata": {
        "colab": {
          "base_uri": "https://localhost:8080/"
        },
        "id": "6f1cef36",
        "outputId": "af61a38c-527d-4982-d96a-c389f1134870"
      },
      "source": [
        "#Check if elements of the list are consecutive\n",
        "l=list(map(int,input().split()))\n",
        "flag=1\n",
        "for i in range(len(l)-1):\n",
        "  if l[i+1]==l[i]+1:\n",
        "    flag+=1\n",
        "if flag==len(l):\n",
        "  print(\"True\")\n",
        "else:\n",
        "  print(\"False\")"
      ],
      "execution_count": null,
      "outputs": [
        {
          "output_type": "stream",
          "name": "stdout",
          "text": [
            "1 2 3  4\n",
            "True\n"
          ]
        }
      ]
    },
    {
      "cell_type": "code",
      "source": [
        "#codeforces 427a\n",
        "n=int(input())\n",
        "l=list(map(int,input().split()))\n",
        "p=0\n",
        "c=0\n",
        "for i in l:\n",
        "    if i==-1:\n",
        "      if p==0:\n",
        "        c+=1\n",
        "      elif p>0:\n",
        "        p-=1\n",
        "    if i>0:\n",
        "      p+=i\n",
        "print(c)"
      ],
      "metadata": {
        "id": "0yDkkxvAoaqQ",
        "colab": {
          "base_uri": "https://localhost:8080/"
        },
        "outputId": "1ad632d3-8f43-4a2b-a7b4-3f6297198196"
      },
      "execution_count": null,
      "outputs": [
        {
          "output_type": "stream",
          "name": "stdout",
          "text": [
            "8\n",
            "1 -1 1 -1 -1 1 1 1\n",
            "1\n"
          ]
        }
      ]
    },
    {
      "cell_type": "code",
      "source": [
        "#Most frequent Element\n",
        "l=list(map(int,input().split()))\n",
        "n,count=0,0\n",
        "for i in l:\n",
        "  if i>n:\n",
        "    n=i\n",
        "    count+=1\n",
        "print(count)"
      ],
      "metadata": {
        "colab": {
          "base_uri": "https://localhost:8080/"
        },
        "id": "Necd4k8unVVx",
        "outputId": "5f3c6298-9cb1-4472-dbc1-1b3944e3a54f"
      },
      "execution_count": null,
      "outputs": [
        {
          "output_type": "stream",
          "name": "stdout",
          "text": [
            "3 4 3 3 5  4\n",
            "3\n"
          ]
        }
      ]
    },
    {
      "cell_type": "code",
      "source": [
        "#brute force 2nd largest number\n",
        "l=list(map(int,input().split()))\n",
        "n,m=0,0\n",
        "for i in l:\n",
        "  if i>n :\n",
        "      n=i\n",
        "for i in l:\n",
        "  if i>m and i!=n :\n",
        "      m=i\n",
        "print(m)"
      ],
      "metadata": {
        "colab": {
          "base_uri": "https://localhost:8080/"
        },
        "id": "ct1yY39Lzak9",
        "outputId": "40c43963-e192-4877-f2d9-e60be7497303"
      },
      "execution_count": null,
      "outputs": [
        {
          "output_type": "stream",
          "name": "stdout",
          "text": [
            "3 5 2 6 1\n",
            "5\n"
          ]
        }
      ]
    },
    {
      "cell_type": "code",
      "source": [
        "#further optimizing\n",
        "l=list(map(int,input().split()))\n",
        "n,m=0,0\n",
        "for i in l:\n",
        "  if i>n :\n",
        "    m=n\n",
        "    n=i\n",
        "  elif i>m and i!=n:\n",
        "    m=i\n",
        "print(m)"
      ],
      "metadata": {
        "colab": {
          "base_uri": "https://localhost:8080/"
        },
        "id": "PfEtxIxg1SI9",
        "outputId": "44a49a67-21f3-4a36-c720-df084fb787eb"
      },
      "execution_count": null,
      "outputs": [
        {
          "output_type": "stream",
          "name": "stdout",
          "text": [
            "3 5 2 6 1\n",
            "5\n"
          ]
        }
      ]
    },
    {
      "cell_type": "code",
      "source": [
        "#bit manupilation"
      ],
      "metadata": {
        "id": "4zHgdW4V4Ky8"
      },
      "execution_count": null,
      "outputs": []
    },
    {
      "cell_type": "code",
      "source": [
        "#brute force\n",
        "#1^2^3^4....\n",
        "n=int(input())\n",
        "x=0\n",
        "for i in range(1,n+1):\n",
        "  x=x^i\n",
        "print(x)"
      ],
      "metadata": {
        "colab": {
          "base_uri": "https://localhost:8080/"
        },
        "id": "1RhxTimxDwGh",
        "outputId": "aa0d357a-4cfb-4537-ae15-6aaa38108746"
      },
      "execution_count": null,
      "outputs": [
        {
          "output_type": "stream",
          "name": "stdout",
          "text": [
            "5\n",
            "1\n"
          ]
        }
      ]
    },
    {
      "cell_type": "code",
      "source": [
        "#optimal\n",
        "n=int(input())\n",
        "if n%4==1:\n",
        "  print(1)\n",
        "if n%4==2:\n",
        "  print(n+1)\n",
        "if n%4==3:\n",
        "  print(0)\n",
        "if n%4==4:\n",
        "  print(n)"
      ],
      "metadata": {
        "colab": {
          "base_uri": "https://localhost:8080/"
        },
        "id": "ng8KHPdgETix",
        "outputId": "2aaeee58-3b0b-4679-f403-133554f77d48"
      },
      "execution_count": null,
      "outputs": [
        {
          "output_type": "stream",
          "name": "stdout",
          "text": [
            "6\n",
            "7\n"
          ]
        }
      ]
    },
    {
      "cell_type": "code",
      "source": [
        "#from the give range of number\n",
        "#l=3 and r=6\n",
        "#3^4^5^6..\n",
        "def XOR(n):\n",
        "  if n%4==1:\n",
        "    return 1\n",
        "  if n%4==2:\n",
        "    return n+1\n",
        "  if n%4==3:\n",
        "    return 0\n",
        "  if n%4==4:\n",
        "    return n\n",
        "l=int(input())\n",
        "r=int(input())\n",
        "print(XOR(l-1)^XOR(r))"
      ],
      "metadata": {
        "id": "-UTdhpWAG_Nx",
        "colab": {
          "base_uri": "https://localhost:8080/"
        },
        "outputId": "4f83f5eb-8666-430a-d28b-8df344759655"
      },
      "execution_count": null,
      "outputs": [
        {
          "output_type": "stream",
          "name": "stdout",
          "text": [
            "3\n",
            "6\n",
            "4\n"
          ]
        }
      ]
    },
    {
      "cell_type": "code",
      "source": [
        "#no. of 1's in binary\n",
        "n=int(input())\n",
        "count=0\n",
        "while n:\n",
        "  n=(n&(n-1))\n",
        "  count+=1\n",
        "print(count)"
      ],
      "metadata": {
        "colab": {
          "base_uri": "https://localhost:8080/"
        },
        "id": "zs4m23kPIvqx",
        "outputId": "013bdfd2-b478-4e3c-d144-942bf2169625"
      },
      "execution_count": null,
      "outputs": [
        {
          "output_type": "stream",
          "name": "stdout",
          "text": [
            "21\n",
            "3\n"
          ]
        }
      ]
    },
    {
      "cell_type": "code",
      "source": [
        "#prime number using functions\n",
        "def prime(n):\n",
        "  flag=0\n",
        "  for i in range(2,n):\n",
        "    if n%i==0:\n",
        "      flag=1\n",
        "      break\n",
        "  return flag\n",
        "\n",
        "n=list(map(int,input().split()))\n",
        "for i in n:\n",
        "  f=prime(i)\n",
        "  if f==0 and i!=1:\n",
        "    print(i)\n"
      ],
      "metadata": {
        "colab": {
          "base_uri": "https://localhost:8080/"
        },
        "id": "dCVtBS8-R-Ov",
        "outputId": "533d81c2-4d15-4233-90b3-27c4260725a5"
      },
      "execution_count": null,
      "outputs": [
        {
          "output_type": "stream",
          "name": "stdout",
          "text": [
            "2 1 5 4 6 8 9 7\n",
            "2\n",
            "5\n",
            "7\n"
          ]
        }
      ]
    },
    {
      "cell_type": "code",
      "source": [
        "l=[10,11,22,31]\n",
        "res=[]\n",
        "for i in l:\n",
        "  a=str(i)\n",
        "  for c in a:\n",
        "    if c!=\"0\" and i%int(c)==0:\n",
        "        res.append(i)\n",
        "print(res)"
      ],
      "metadata": {
        "colab": {
          "base_uri": "https://localhost:8080/"
        },
        "id": "mZlkNgMDjEnY",
        "outputId": "fbae98cb-ed87-4577-d10b-ea6b1d02b86f"
      },
      "execution_count": null,
      "outputs": [
        {
          "output_type": "stream",
          "name": "stdout",
          "text": [
            "[10, 11, 11, 22, 22, 31]\n"
          ]
        }
      ]
    },
    {
      "cell_type": "code",
      "source": [
        "#cf 1560 A: dislike of three\n",
        "n=int(input())\n",
        "for _ in range(n):\n",
        "  t=int(input())\n",
        "  i,count=1,0\n",
        "  while 1:\n",
        "    if i%3!=0 and i%10!=3:\n",
        "      count+=1\n",
        "      if count==t:\n",
        "        print(i)\n",
        "        break\n",
        "    i+=1"
      ],
      "metadata": {
        "colab": {
          "base_uri": "https://localhost:8080/"
        },
        "id": "ONRiGgQnDmqa",
        "outputId": "a63f344b-116e-4fd5-8a3b-a91ffd4c3b67"
      },
      "execution_count": null,
      "outputs": [
        {
          "output_type": "stream",
          "name": "stdout",
          "text": [
            "10\n",
            "1\n",
            "1\n",
            "2\n",
            "2\n",
            "3\n",
            "4\n",
            "4\n",
            "5\n",
            "5\n",
            "7\n",
            "6\n",
            "8\n",
            "7\n",
            "10\n",
            "8\n",
            "11\n",
            "1000\n",
            "1666\n",
            "500\n",
            "832\n"
          ]
        }
      ]
    },
    {
      "cell_type": "code",
      "source": [
        "#Dictionary\n",
        "d={}\n",
        "n=int(input())\n",
        "for _ in range(n):\n",
        "  key=int(input())\n",
        "  value=int(input())\n",
        "  d[key]=value\n",
        "print(d)"
      ],
      "metadata": {
        "colab": {
          "base_uri": "https://localhost:8080/"
        },
        "id": "-I0VUvRSEspY",
        "outputId": "a8b25644-75a4-4320-b735-7d40e2aaf229"
      },
      "execution_count": null,
      "outputs": [
        {
          "output_type": "stream",
          "name": "stdout",
          "text": [
            "2\n",
            "1\n",
            "21\n",
            "2\n",
            "56\n",
            "{1: 21, 2: 56}\n"
          ]
        }
      ]
    },
    {
      "cell_type": "code",
      "source": [
        "#Dictionary\n",
        "d={1:23,2:234}\n",
        "print(d[1])\n",
        "print(d.get(2))\n",
        "for i in d:\n",
        "  print(i,\":\",d[i])"
      ],
      "metadata": {
        "colab": {
          "base_uri": "https://localhost:8080/"
        },
        "id": "E52mwDVThCB7",
        "outputId": "e17f0c25-0610-4739-945a-4230ec17fa5f"
      },
      "execution_count": null,
      "outputs": [
        {
          "output_type": "stream",
          "name": "stdout",
          "text": [
            "23\n",
            "234\n",
            "1 : 23\n",
            "2 : 234\n"
          ]
        }
      ]
    },
    {
      "cell_type": "code",
      "source": [
        "#Dicctionary\n",
        "d={1:2,2:3}\n",
        "d1=d\n",
        "d.update({1:23})\n",
        "print(d1)"
      ],
      "metadata": {
        "colab": {
          "base_uri": "https://localhost:8080/"
        },
        "id": "Rb0e4Mo7jsTL",
        "outputId": "6a922609-6aae-4476-f137-03e7efa81f53"
      },
      "execution_count": null,
      "outputs": [
        {
          "output_type": "stream",
          "name": "stdout",
          "text": [
            "{1: 23, 2: 3}\n"
          ]
        }
      ]
    },
    {
      "cell_type": "code",
      "source": [
        "#Dictionary\n",
        "d={1:2,2:3}\n",
        "d.popitem()\n",
        "print(d)"
      ],
      "metadata": {
        "colab": {
          "base_uri": "https://localhost:8080/"
        },
        "id": "lDVnkbrWk0YK",
        "outputId": "48bc89da-2ca4-4fc5-a80a-b3a7dfdc5afe"
      },
      "execution_count": null,
      "outputs": [
        {
          "output_type": "stream",
          "name": "stdout",
          "text": [
            "{1: 2}\n"
          ]
        }
      ]
    },
    {
      "cell_type": "code",
      "source": [
        "#Dictionary: Find a element in dictionary\n",
        "d={}\n",
        "n=int(input())\n",
        "for i in range(n):\n",
        "  i=int(input())\n",
        "  j=int(input())\n",
        "  d[i]=j\n",
        "key=int(input())\n",
        "if key in d:\n",
        "  print(\"True\")\n",
        "else:\n",
        "  print(\"False\")"
      ],
      "metadata": {
        "colab": {
          "base_uri": "https://localhost:8080/"
        },
        "id": "PnMxY4mIl57C",
        "outputId": "26cd2367-6ad0-4041-90cf-387b328e8c6c"
      },
      "execution_count": null,
      "outputs": [
        {
          "output_type": "stream",
          "name": "stdout",
          "text": [
            "2\n",
            "1\n",
            "2\n",
            "2\n",
            "3\n",
            "2\n",
            "True\n"
          ]
        }
      ]
    },
    {
      "cell_type": "code",
      "source": [
        "#Square of n numbers in dictionary\n",
        "d={}\n",
        "n=int(input())\n",
        "for i in range(1,n+1):\n",
        "  d[i]=i*i\n",
        "print(d)"
      ],
      "metadata": {
        "colab": {
          "base_uri": "https://localhost:8080/"
        },
        "id": "cC6-BqDF4JxH",
        "outputId": "445de12a-207c-42a9-8a80-535be31d27c6"
      },
      "execution_count": null,
      "outputs": [
        {
          "output_type": "stream",
          "name": "stdout",
          "text": [
            "5\n",
            "{1: 1, 2: 4, 3: 9, 4: 16, 5: 25}\n"
          ]
        }
      ]
    },
    {
      "cell_type": "code",
      "source": [
        "#Join two lists in order\n",
        "l1=[1,3,4,5,7,8,9]\n",
        "l2=[2,6]\n",
        "i,j=0,0\n",
        "res=[]\n",
        "while i<len(l1) and j < len(l2):\n",
        "  if l1[i]<l2[j]:\n",
        "    res.append(l1[i])\n",
        "    i+=1\n",
        "  else:\n",
        "    res.append(l2[j])\n",
        "    j+=1\n",
        "while i<len(l1):\n",
        "  res.append(l1[i])\n",
        "  i+=1\n",
        "while j<len(l2):\n",
        "  res.append(l2[j])\n",
        "  j+=1\n",
        "print(res)"
      ],
      "metadata": {
        "colab": {
          "base_uri": "https://localhost:8080/"
        },
        "id": "mbptuVhF5gIu",
        "outputId": "e788383a-44fe-424e-fa80-44ef738199b5"
      },
      "execution_count": null,
      "outputs": [
        {
          "output_type": "stream",
          "name": "stdout",
          "text": [
            "[1, 2, 3, 4, 5, 6, 7, 8, 9]\n"
          ]
        }
      ]
    },
    {
      "cell_type": "code",
      "source": [
        "#Combination of 2 digit numbers in a list\n",
        "l=[1,6,9,5]\n",
        "for i in range(len(l)):\n",
        "  for j in range (i+1,len(l)):\n",
        "    print(l[i],l[j])"
      ],
      "metadata": {
        "colab": {
          "base_uri": "https://localhost:8080/"
        },
        "id": "BUsFAL6Z8VqN",
        "outputId": "6b078770-30f3-4120-da1d-c318a436bbf3"
      },
      "execution_count": null,
      "outputs": [
        {
          "output_type": "stream",
          "name": "stdout",
          "text": [
            "1 6\n",
            "1 9\n",
            "1 5\n",
            "6 9\n",
            "6 5\n",
            "9 5\n"
          ]
        }
      ]
    },
    {
      "cell_type": "code",
      "source": [
        "#Highest possible two digit sum in the list\n",
        "l=[1,6,9,5]\n",
        "m=0\n",
        "for i in range(len(l)):\n",
        "  for j in range (i+1,len(l)):\n",
        "    s=l[i]+l[j]\n",
        "    m=max(m,s)\n",
        "print(m)"
      ],
      "metadata": {
        "colab": {
          "base_uri": "https://localhost:8080/"
        },
        "id": "P5EHV-u4aEdP",
        "outputId": "1cef1609-36cf-48c6-f650-095bcd3e850f"
      },
      "execution_count": null,
      "outputs": [
        {
          "output_type": "stream",
          "name": "stdout",
          "text": [
            "15\n"
          ]
        }
      ]
    },
    {
      "cell_type": "code",
      "source": [
        "n=int(input())\n",
        "v=list(map(int,input().split()))\n",
        "a=list(map(int,input().split()))\n",
        "c=[0]*max(v)\n",
        "for i in range (n):\n",
        "  if a[i]>17:\n",
        "     c[v[i]-1]+=1\n",
        "print(c)\n",
        "if c.count(max(c))>1:\n",
        "  print(-1)\n",
        "else:\n",
        "  print(c.index(max(c))+1)"
      ],
      "metadata": {
        "id": "36wbkiB7bjnG",
        "colab": {
          "base_uri": "https://localhost:8080/"
        },
        "outputId": "ddf22973-2f95-481d-8393-6c098a9c230b"
      },
      "execution_count": null,
      "outputs": [
        {
          "output_type": "stream",
          "name": "stdout",
          "text": [
            "5 \n",
            "1 2 3 2 1\n",
            "25 16 23 29 89\n",
            "[2, 1, 1]\n",
            "1\n"
          ]
        }
      ]
    },
    {
      "cell_type": "code",
      "source": [
        "l=list(map(int,input().split()))\n",
        "flag=0\n",
        "for i in range(len(l)-1):\n",
        "  if l[i]<l[i+1]:\n",
        "    flag+=1\n",
        "  else:\n",
        "    flag-=1\n",
        "if flag==len(l)-1:\n",
        "  print(\"Sorted\")\n",
        "else:\n",
        "  print(\"Not sorted\")"
      ],
      "metadata": {
        "colab": {
          "base_uri": "https://localhost:8080/"
        },
        "id": "ljXDhiKzG01B",
        "outputId": "40b1ab65-a7a6-48e8-d399-4d3462dac888"
      },
      "execution_count": null,
      "outputs": [
        {
          "output_type": "stream",
          "name": "stdout",
          "text": [
            "1 1 2 3 \n",
            "Not sorted\n"
          ]
        }
      ]
    },
    {
      "cell_type": "code",
      "source": [
        "#sliding window concept-brute force\n",
        "k=int(input())\n",
        "l=list(map(int,input().split()))\n",
        "max=0\n",
        "a=[]\n",
        "for i in range(len(l)-k+1):\n",
        "  s=0\n",
        "  b=[]\n",
        "  for j in range(i,i+k):\n",
        "    s+=l[j]\n",
        "    b.append(l[j])\n",
        "  if max<s:\n",
        "    max=s\n",
        "    a=b\n",
        "print(a)\n",
        "print(max)"
      ],
      "metadata": {
        "colab": {
          "base_uri": "https://localhost:8080/"
        },
        "id": "EXkfxVhwQhiq",
        "outputId": "b192cad5-c7c9-4319-9119-31ba5bee8e3c"
      },
      "execution_count": null,
      "outputs": [
        {
          "output_type": "stream",
          "name": "stdout",
          "text": [
            "4\n",
            "2 3 4 1  2 6  7 3 5 1 6 3 2 4\n",
            "[6, 7, 3, 5]\n",
            "21\n"
          ]
        }
      ]
    },
    {
      "cell_type": "code",
      "source": [
        "#Subarray\n",
        "k=int(input())\n",
        "l=list(map(int,input().split()))\n",
        "s=sum(l[:k])\n",
        "m=s\n",
        "for i in range(1,len(l)-k+1):\n",
        "  s=s-l[i-1]+l[i+k-1]\n",
        "  if m<s:\n",
        "    m=s\n",
        "print(m)"
      ],
      "metadata": {
        "colab": {
          "base_uri": "https://localhost:8080/"
        },
        "id": "J5No4wS5ZoXh",
        "outputId": "45076f5e-0d71-4f90-9a6e-55322be35069"
      },
      "execution_count": null,
      "outputs": [
        {
          "output_type": "stream",
          "name": "stdout",
          "text": [
            "4\n",
            "3 2 1 5 6 3 2 5 6 7 3 5 \n",
            "21\n"
          ]
        }
      ]
    },
    {
      "cell_type": "code",
      "source": [
        "arr=[2,4,5,6,3,2,4,2,1,8,7,9]\n",
        "k=13\n",
        "l,r,s,m=0,0,0,0\n",
        "m1,m2=0,0\n",
        "while r<len(arr):\n",
        "  s+=arr[r]\n",
        "  while s>k:\n",
        "    s-=arr[l]\n",
        "    l+=1\n",
        "  if m<(r-l+1):\n",
        "    m=r-l+1\n",
        "    m1,m2=l,r\n",
        "  r+=1\n",
        "print(m)\n",
        "print(arr[m1:m2])"
      ],
      "metadata": {
        "colab": {
          "base_uri": "https://localhost:8080/"
        },
        "id": "6VhjqqENjqSP",
        "outputId": "d9c2d396-e57e-48be-e69d-b867741e28c0"
      },
      "execution_count": null,
      "outputs": [
        {
          "output_type": "stream",
          "name": "stdout",
          "text": [
            "5\n",
            "[3, 2, 4, 2]\n"
          ]
        }
      ]
    },
    {
      "cell_type": "code",
      "source": [
        "d={}\n",
        "l=list(map(int,input().split()))\n",
        "m=0\n",
        "e1=0\n",
        "m1=0\n",
        "e2=0\n",
        "for i in l:\n",
        "  if i not in d:\n",
        "    d[i]=1\n",
        "  else:\n",
        "    d[i]+=1\n",
        "for i in d:\n",
        "  if m<d[i]  :\n",
        "   m1=m\n",
        "   e2=e1\n",
        "   m=d[i]\n",
        "   e1=i\n",
        "  elif d[i]>m1 and d[i]!=m:\n",
        "    m1=d[i]\n",
        "    e2=i\n",
        "print(d)\n",
        "print(e2)\n"
      ],
      "metadata": {
        "id": "ZM6OOsgKFGBm",
        "colab": {
          "base_uri": "https://localhost:8080/"
        },
        "outputId": "fb5e0e07-917e-4dbd-a48d-66db06c93660"
      },
      "execution_count": null,
      "outputs": [
        {
          "output_type": "stream",
          "name": "stdout",
          "text": [
            "1 2 2 3  5 2 3 8\n",
            "{1: 1, 2: 3, 3: 2, 5: 1, 8: 1}\n",
            "3\n"
          ]
        }
      ]
    },
    {
      "cell_type": "code",
      "source": [
        "l=list(map(int,input().split()))\n",
        "k=int(input())\n",
        "for i in range(len(l)):\n",
        "  if l[i]==k:\n",
        "    print(i)\n",
        "    break\n",
        "else:\n",
        "  print(\"False\")"
      ],
      "metadata": {
        "id": "64tTe9QGUtEQ",
        "colab": {
          "base_uri": "https://localhost:8080/"
        },
        "outputId": "fab178ae-3870-4bcd-be9c-7523f26f70fa"
      },
      "execution_count": null,
      "outputs": [
        {
          "output_type": "stream",
          "name": "stdout",
          "text": [
            "1 2 3 4 5 6 78 9\n",
            "7\n",
            "False\n"
          ]
        }
      ]
    },
    {
      "cell_type": "code",
      "source": [
        "l=[[1,2,3,4],[5,6,7,8],[9,10,11,12]]\n",
        "k=2\n",
        "f=0\n",
        "for i in range(len(l)):\n",
        "  for j in range(len(l[0])):\n",
        "    if l[i][j]==k:\n",
        "      print(i,j)\n",
        "      f=1\n",
        "      break\n",
        "if f==0:\n",
        "    print(False)"
      ],
      "metadata": {
        "colab": {
          "base_uri": "https://localhost:8080/"
        },
        "id": "tEELrRiSrjYE",
        "outputId": "2e698810-cf73-42ca-fbcf-57d77653b337"
      },
      "execution_count": null,
      "outputs": [
        {
          "output_type": "stream",
          "name": "stdout",
          "text": [
            "0 1\n"
          ]
        }
      ]
    },
    {
      "cell_type": "code",
      "source": [
        "a=[1,2,3,4,5,6,7]\n",
        "k=5\n",
        "l,r=0,len(a)-1\n",
        "while l<=r:\n",
        "  m=(l+r)//2\n",
        "  if a[m]==k:\n",
        "    print(\"Ele Found\")\n",
        "    break\n",
        "  elif a[m]<k:\n",
        "    l=m+1\n",
        "  else:\n",
        "    r=m-1\n",
        "else:\n",
        "  print(False)"
      ],
      "metadata": {
        "colab": {
          "base_uri": "https://localhost:8080/"
        },
        "id": "qcDHXn9GukCK",
        "outputId": "d8fa0ebc-2b56-4132-bc58-e7de83932cb8"
      },
      "execution_count": null,
      "outputs": [
        {
          "output_type": "stream",
          "name": "stdout",
          "text": [
            "Ele Found\n"
          ]
        }
      ]
    },
    {
      "cell_type": "code",
      "source": [
        "s=\"baaad\"\n",
        "l=[]\n",
        "for c in s:\n",
        "  if len(l)==0 or l[-1]!=c:\n",
        "      l.append(c)\n",
        "  else:\n",
        "      l.pop()\n",
        "print(\"\".join(l))"
      ],
      "metadata": {
        "id": "dITqD-DK1fWB",
        "colab": {
          "base_uri": "https://localhost:8080/"
        },
        "outputId": "e1ff9444-c7c0-4117-ec47-829243464665"
      },
      "execution_count": null,
      "outputs": [
        {
          "output_type": "stream",
          "name": "stdout",
          "text": [
            "bad\n"
          ]
        }
      ]
    },
    {
      "cell_type": "code",
      "source": [
        "l=[]\n",
        "n=len(l)\n",
        "x=3\n",
        "arr=[]\n",
        "for i in range(n):\n",
        "  arr.extend([i+1]*l[i])\n",
        "l,r=0,0\n",
        "for i in range(len(arr)):\n",
        "  if arr[i]==x:\n",
        "    l=i\n",
        "    break\n",
        "for i in range(len(arr)-1,-1,-1):\n",
        "  if arr[i]==x:\n",
        "    r=i\n",
        "    break\n",
        "print(r-l+1)"
      ],
      "metadata": {
        "id": "zH7h93Mjy6KT",
        "colab": {
          "base_uri": "https://localhost:8080/"
        },
        "outputId": "40d3bc4a-d97e-4823-91d7-79bd73de3b4d"
      },
      "execution_count": null,
      "outputs": [
        {
          "output_type": "stream",
          "name": "stdout",
          "text": [
            "1\n"
          ]
        }
      ]
    },
    {
      "cell_type": "code",
      "source": [
        "s=\"abc**d*f\"\n",
        "l=[]\n",
        "for c in s:\n",
        "    if c!=\"*\":\n",
        "        l.append(c)\n",
        "    else:\n",
        "        l.pop()\n",
        "print(\"\".join(l))"
      ],
      "metadata": {
        "id": "gT_p1G8pkwT-",
        "colab": {
          "base_uri": "https://localhost:8080/"
        },
        "outputId": "3dfa9d34-707b-41cf-efd0-1be488fc85c5"
      },
      "execution_count": null,
      "outputs": [
        {
          "output_type": "stream",
          "name": "stdout",
          "text": [
            "af\n"
          ]
        }
      ]
    },
    {
      "cell_type": "code",
      "source": [
        "l=[1,0]\n",
        "print(l.pop(0))"
      ],
      "metadata": {
        "colab": {
          "base_uri": "https://localhost:8080/"
        },
        "id": "4XqJTXaNQLch",
        "outputId": "0d79ed2a-14cb-4aad-9465-543734e9d1b9"
      },
      "execution_count": null,
      "outputs": [
        {
          "output_type": "stream",
          "name": "stdout",
          "text": [
            "1\n"
          ]
        }
      ]
    },
    {
      "cell_type": "code",
      "source": [
        "#prime number- sieve of eratosthenes\n",
        "n=int(input())\n",
        "prime=[True]*(n+1)\n",
        "prime[0]=False\n",
        "prime[1]=False\n",
        "p=2\n",
        "while p*p<=n:\n",
        "  if prime[p]:\n",
        "    for i in range(p*p,n+1,p):\n",
        "      prime[i]=False\n",
        "  p+=1\n",
        "for i in range(len(prime)):\n",
        "  if prime[i]:\n",
        "    print(i,end=\" \")"
      ],
      "metadata": {
        "colab": {
          "base_uri": "https://localhost:8080/"
        },
        "id": "6sEKBJTuSuu4",
        "outputId": "5689233c-fd94-4a94-9ba5-8e6b2ec6e82a"
      },
      "execution_count": null,
      "outputs": [
        {
          "output_type": "stream",
          "name": "stdout",
          "text": [
            "10\n",
            "2 3 5 7 "
          ]
        }
      ]
    },
    {
      "cell_type": "code",
      "source": [
        "#recursion\n",
        "def fun(a):\n",
        "  if a==0:\n",
        "    return 0\n",
        "  print(a)\n",
        "  fun(a-1)\n",
        "n=int(input())\n",
        "fun(n)"
      ],
      "metadata": {
        "id": "OyhtfDfqyM5p",
        "colab": {
          "base_uri": "https://localhost:8080/"
        },
        "outputId": "db82e158-c386-4787-9026-8c613055caf9"
      },
      "execution_count": null,
      "outputs": [
        {
          "output_type": "stream",
          "name": "stdout",
          "text": [
            "5\n",
            "5\n",
            "4\n",
            "3\n",
            "2\n",
            "1\n"
          ]
        }
      ]
    },
    {
      "cell_type": "code",
      "source": [
        "def fun(n):\n",
        "  if n==0:\n",
        "    return\n",
        "  fun(n-1)\n",
        "  print(n)\n",
        "n=int(input())\n",
        "fun(n)"
      ],
      "metadata": {
        "colab": {
          "base_uri": "https://localhost:8080/"
        },
        "id": "ZsxbFThCXD61",
        "outputId": "6226424f-9a53-45d2-b500-d53cd965f208"
      },
      "execution_count": null,
      "outputs": [
        {
          "output_type": "stream",
          "name": "stdout",
          "text": [
            "5\n",
            "1\n",
            "2\n",
            "3\n",
            "4\n",
            "5\n"
          ]
        }
      ]
    },
    {
      "cell_type": "code",
      "source": [
        "def fun(n):\n",
        "  if n==0:\n",
        "    return 200\n",
        "  a=fun(n-1)\n",
        "  print(n)\n",
        "  return a\n",
        "n=int(input())\n",
        "fun(n)"
      ],
      "metadata": {
        "colab": {
          "base_uri": "https://localhost:8080/"
        },
        "id": "4gVmPhjBa-sr",
        "outputId": "f5ec2562-5d3b-4b92-a6f6-f919366beabd"
      },
      "execution_count": null,
      "outputs": [
        {
          "output_type": "stream",
          "name": "stdout",
          "text": [
            "5\n",
            "1\n",
            "2\n",
            "3\n",
            "4\n",
            "5\n"
          ]
        },
        {
          "output_type": "execute_result",
          "data": {
            "text/plain": [
              "200"
            ]
          },
          "metadata": {},
          "execution_count": 27
        }
      ]
    },
    {
      "cell_type": "code",
      "source": [
        "def fun(n):\n",
        "  if n==2:\n",
        "    print(2)\n",
        "    return\n",
        "  print(n)\n",
        "  fun(n-2)\n",
        "  print(n)\n",
        "n=int(input())\n",
        "fun(n)"
      ],
      "metadata": {
        "colab": {
          "base_uri": "https://localhost:8080/"
        },
        "id": "4LzQilxcdyTS",
        "outputId": "75baa0b8-2c18-4b99-c2e1-0ff0601b5d6f"
      },
      "execution_count": null,
      "outputs": [
        {
          "output_type": "stream",
          "name": "stdout",
          "text": [
            "10\n",
            "10\n",
            "8\n",
            "6\n",
            "4\n",
            "2\n",
            "4\n",
            "6\n",
            "8\n",
            "10\n"
          ]
        }
      ]
    },
    {
      "cell_type": "code",
      "source": [
        "def fun(n,a=0):\n",
        "  if n==a:\n",
        "    return\n",
        "  print(a+1,end=\" \")\n",
        "  fun(n,a+1)\n",
        "  if n!=a+1:\n",
        "    print(a+1,end=\" \")\n",
        "\n",
        "n=int(input())\n",
        "fun(n)"
      ],
      "metadata": {
        "colab": {
          "base_uri": "https://localhost:8080/"
        },
        "id": "ka84jh-Th4nA",
        "outputId": "114193bd-baeb-496b-fa61-029fa48bed95"
      },
      "execution_count": null,
      "outputs": [
        {
          "output_type": "stream",
          "name": "stdout",
          "text": [
            "5\n",
            "1 2 3 4 5 4 3 2 1 "
          ]
        }
      ]
    },
    {
      "cell_type": "code",
      "source": [
        "n=int(input())\n",
        "for  i in range(1,n+1):\n",
        "  print(i)\n",
        "for i in range(n-1,0,-1):\n",
        "  print(i)"
      ],
      "metadata": {
        "colab": {
          "base_uri": "https://localhost:8080/"
        },
        "id": "zml_paphuCSl",
        "outputId": "496630fc-69ab-46e2-a8af-3ef516db3a65"
      },
      "execution_count": null,
      "outputs": [
        {
          "output_type": "stream",
          "name": "stdout",
          "text": [
            "5\n",
            "1\n",
            "2\n",
            "3\n",
            "4\n",
            "5\n",
            "4\n",
            "3\n",
            "2\n",
            "1\n"
          ]
        }
      ]
    },
    {
      "cell_type": "code",
      "source": [
        "def fun(n):\n",
        "  if n==1:\n",
        "    return 0\n",
        "  elif n%2==0:\n",
        "    return 1+fun(n//2)\n",
        "  else:\n",
        "    return 1+min(fun(n+1),fun(n-1))\n",
        "n=int(input())\n",
        "print(fun(n))"
      ],
      "metadata": {
        "colab": {
          "base_uri": "https://localhost:8080/"
        },
        "id": "hLe0G8LG1QZD",
        "outputId": "d13ffc48-f81b-4299-c7ec-4c47dcd5b44f"
      },
      "execution_count": null,
      "outputs": [
        {
          "output_type": "stream",
          "name": "stdout",
          "text": [
            "15\n",
            "5\n"
          ]
        }
      ]
    },
    {
      "cell_type": "code",
      "source": [
        "def fun(n,i=1):\n",
        "  if i*i==n:\n",
        "    return True\n",
        "  if i*i>n:\n",
        "    return False\n",
        "  return fun(n,i+1)\n",
        "\n",
        "n=int(input())\n",
        "fun(n)"
      ],
      "metadata": {
        "colab": {
          "base_uri": "https://localhost:8080/"
        },
        "id": "UQRtuYJz6GsR",
        "outputId": "b32cee6d-fd2e-4b88-e6f2-ec3b9a1f9241"
      },
      "execution_count": null,
      "outputs": [
        {
          "name": "stdout",
          "output_type": "stream",
          "text": [
            "25\n"
          ]
        },
        {
          "output_type": "execute_result",
          "data": {
            "text/plain": [
              "True"
            ]
          },
          "metadata": {},
          "execution_count": 90
        }
      ]
    },
    {
      "cell_type": "code",
      "source": [
        "def fire(matrix,i,j):\n",
        "  if i<0 or j<0 or i>=len(matrix) or j>=len(matrix[0]) or matrix[i][j]==0:\n",
        "    return\n",
        "  matrix[i][j]=0\n",
        "  fire(matrix,i-1,j)\n",
        "  fire(matrix,i+1,j)\n",
        "  fire(matrix,i,j+1)\n",
        "  fire(matrix,i,j-1)\n",
        "matrix=[[1,1,0,0],\n",
        "        [1,1,0,1],\n",
        "        [1,0,0,1],\n",
        "        [1,0,1,0]]\n",
        "fire(matrix,1,3)\n",
        "count=0\n",
        "for i in range(len(matrix)):\n",
        "  for j in range(len(matrix[0])):\n",
        "    if matrix[i][j]==1:\n",
        "      count+=1\n",
        "print(count)"
      ],
      "metadata": {
        "colab": {
          "base_uri": "https://localhost:8080/"
        },
        "id": "MSLfXck-CVRn",
        "outputId": "1bf010d1-3558-496b-c1eb-b828a8c15581"
      },
      "execution_count": null,
      "outputs": [
        {
          "output_type": "stream",
          "name": "stdout",
          "text": [
            "7\n"
          ]
        }
      ]
    },
    {
      "cell_type": "code",
      "source": [
        "def path(grid,i,j,p,n):\n",
        "  if i==n-1 and j==n-1:\n",
        "    print(p)\n",
        "    return\n",
        "  if i+1<n and grid[i][j]==1:\n",
        "    path(grid,i+1,j,p+\"D\",n)\n",
        "  if j+1<n and  grid[i][j]==1:\n",
        "    path(grid,i,j+1,p+\"R\",n)\n",
        "matrix=[[1,0,0],\n",
        "        [1,1,0],\n",
        "        [1,1,1]]\n",
        "path(matrix,0,0,\"\",len(matrix))"
      ],
      "metadata": {
        "colab": {
          "base_uri": "https://localhost:8080/"
        },
        "id": "bJNkM-QeXVOJ",
        "outputId": "a5e2b42c-3dce-4d4e-9e1b-fd97c87e5c2e"
      },
      "execution_count": null,
      "outputs": [
        {
          "output_type": "stream",
          "name": "stdout",
          "text": [
            "DDRR\n",
            "DRDR\n"
          ]
        }
      ]
    },
    {
      "cell_type": "code",
      "source": [
        "s=\"dabbac\"\n",
        "m=0\n",
        "for i in range(len(s)):\n",
        "    r,l=i,i\n",
        "    while l>=0 and r<len(s) and s[l]==s[r]:\n",
        "        m=max(m,r-l+1)\n",
        "        r+=1\n",
        "        l-=1\n",
        "    r,l=i+1,i\n",
        "    while l>=0 and r<len(s) and s[l]==s[r]:\n",
        "        m=max(m,r-l+1)\n",
        "        r+=1\n",
        "        l-=1\n",
        "print(m)"
      ],
      "metadata": {
        "id": "2qvrksmosAZc",
        "colab": {
          "base_uri": "https://localhost:8080/"
        },
        "outputId": "1092be29-7115-4730-8a53-de5ad142c5b4"
      },
      "execution_count": 10,
      "outputs": [
        {
          "output_type": "stream",
          "name": "stdout",
          "text": [
            "4\n"
          ]
        }
      ]
    },
    {
      "cell_type": "code",
      "source": [
        "def fib(n,dp):\n",
        "  if n<=1:\n",
        "    return n\n",
        "  if dp[n]!=-1:\n",
        "    return dp[n]\n",
        "  dp[n]=fib(n-1,dp)+fib(n-2,dp)\n",
        "  return dp[n]\n",
        "n=int(input())\n",
        "dp=[-1]*(n+1)\n",
        "print(fib(n,dp))"
      ],
      "metadata": {
        "colab": {
          "base_uri": "https://localhost:8080/"
        },
        "id": "vx6UWN_gkA_5",
        "outputId": "f5181d62-6b65-4d59-c7c0-eede91a10ecd"
      },
      "execution_count": 20,
      "outputs": [
        {
          "output_type": "stream",
          "name": "stdout",
          "text": [
            "6\n",
            "8\n"
          ]
        }
      ]
    },
    {
      "cell_type": "code",
      "source": [
        "n=int(input())\n",
        "dp=[-1]*(n+1)\n",
        "dp[0],dp[1]=0,1\n",
        "for i in range(2,n+1):\n",
        "  dp[i]=dp[i-1]+dp[i-2]\n",
        "print(dp[n])"
      ],
      "metadata": {
        "colab": {
          "base_uri": "https://localhost:8080/"
        },
        "id": "1UGdCRXCrYgw",
        "outputId": "efa055ce-a652-4818-ddcc-d7cb89f27cd1"
      },
      "execution_count": 21,
      "outputs": [
        {
          "output_type": "stream",
          "name": "stdout",
          "text": [
            "7\n",
            "13\n"
          ]
        }
      ]
    },
    {
      "cell_type": "code",
      "source": [
        "#no memoization\n",
        "def frog_jump(n,energy):\n",
        "  if n==0:\n",
        "    return 0\n",
        "  jump1=frog_jump(n-1,energy)+abs(energy[n]-energy[n-1])\n",
        "  jump2=float('inf')\n",
        "  if n>1:\n",
        "    jump2=frog_jump(n-2,energy)+abs(energy[n]-energy[n-2])\n",
        "  return min(jump1,jump2)\n",
        "energy=[30,10,60,10,60,50]\n",
        "n=len(energy)-1\n",
        "print(frog_jump(n,energy))"
      ],
      "metadata": {
        "colab": {
          "base_uri": "https://localhost:8080/"
        },
        "id": "Mpf532-t3MAX",
        "outputId": "a6fa7da4-e81a-4b80-bd38-e937f92a4782"
      },
      "execution_count": 22,
      "outputs": [
        {
          "output_type": "stream",
          "name": "stdout",
          "text": [
            "40\n"
          ]
        }
      ]
    },
    {
      "cell_type": "code",
      "source": [
        "#memoization\n",
        "def frog_jump(n,energy):\n",
        "  if n==0:\n",
        "    return 0\n",
        "  if dp[n]!=-1:\n",
        "    return dp[n]\n",
        "  jump1=frog_jump(n-1,energy)+abs(energy[n]-energy[n-1])\n",
        "  jump2=float('inf')\n",
        "  if n>1:\n",
        "    jump2=frog_jump(n-2,energy)+abs(energy[n]-energy[n-2])\n",
        "  dp[n]=min(jump1,jump2)\n",
        "  return dp[n]\n",
        "energy=[30,10,60,10,60,50]\n",
        "n=len(energy)-1\n",
        "dp=[-1]*(n+1)\n",
        "print(frog_jump(n,energy))"
      ],
      "metadata": {
        "colab": {
          "base_uri": "https://localhost:8080/"
        },
        "id": "kJJ8zfduNcJ0",
        "outputId": "7efc713b-65ae-419e-a224-7a8007246a7e"
      },
      "execution_count": 24,
      "outputs": [
        {
          "output_type": "stream",
          "name": "stdout",
          "text": [
            "40\n"
          ]
        }
      ]
    },
    {
      "cell_type": "code",
      "source": [
        "#tabulation\n",
        "energy=[30,10,60,10,60,50]\n",
        "n=len(energy)-1\n",
        "dp=[-1]*n\n",
        "dp[0]=0\n",
        "for i in range(1,n):\n",
        "  jump1=dp[i-1]+abs(energy[i]-energy[i-1])\n",
        "  jump2=float('inf')\n",
        "  if i>1:\n",
        "    jump2=dp[i-2]+abs(energy[i]-energy[i-2])\n",
        "  dp[i]=min(jump1,jump2)\n",
        "print(dp[n-1])\n"
      ],
      "metadata": {
        "colab": {
          "base_uri": "https://localhost:8080/"
        },
        "id": "b0qB98B_c-Jh",
        "outputId": "70bc5b65-49b9-4a1b-fb93-068990f920fc"
      },
      "execution_count": 25,
      "outputs": [
        {
          "output_type": "stream",
          "name": "stdout",
          "text": [
            "30\n"
          ]
        }
      ]
    },
    {
      "cell_type": "code",
      "source": [],
      "metadata": {
        "id": "z8dfOdmKi6WR"
      },
      "execution_count": null,
      "outputs": []
    }
  ]
}